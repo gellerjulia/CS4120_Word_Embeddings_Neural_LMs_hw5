{
 "cells": [
  {
   "cell_type": "markdown",
   "metadata": {},
   "source": [
    "Homework 5: Neural Language Models  (& 🎃 SpOoKy 👻 authors 🧟 data) - Task 3\n",
    "---"
   ]
  },
  {
   "cell_type": "markdown",
   "metadata": {},
   "source": [
    "Names & Sections\n",
    "----\n",
    "Names: Julia Geller (4120) & Shae Marks (4120)"
   ]
  },
  {
   "cell_type": "markdown",
   "metadata": {},
   "source": [
    "Task 3: Feedforward Neural Language Model (60 points)\n",
    "--------------------------\n",
    "\n",
    "For this task, you will create and train neural LMs for both your word-based embeddings and your character-based ones. You should write functions when appropriate to avoid excessive copy+pasting."
   ]
  },
  {
   "cell_type": "markdown",
   "metadata": {},
   "source": [
    "### a) First, encode  your text into integers (5 points)"
   ]
  },
  {
   "cell_type": "code",
   "execution_count": 1,
   "metadata": {},
   "outputs": [
    {
     "name": "stderr",
     "output_type": "stream",
     "text": [
      "[nltk_data] Downloading package punkt to\n",
      "[nltk_data]     C:\\Users\\shaem\\AppData\\Roaming\\nltk_data...\n",
      "[nltk_data]   Package punkt is already up-to-date!\n"
     ]
    }
   ],
   "source": [
    "# Importing utility functions from Keras\n",
    "import keras\n",
    "from keras.preprocessing.text import Tokenizer\n",
    "from keras.utils import to_categorical\n",
    "\n",
    "# necessary\n",
    "from keras.models import Sequential\n",
    "from keras.layers import Dense\n",
    "\n",
    "# optional\n",
    "# from keras.layers import Dropout\n",
    "\n",
    "# if you want fancy progress bars\n",
    "from tqdm import notebook\n",
    "from IPython.display import display\n",
    "\n",
    "# your other imports here\n",
    "import time\n",
    "import neurallm_utils as nutils\n",
    "from gensim.models import KeyedVectors # imported by me \n",
    "\n",
    "\n",
    "import numpy as np"
   ]
  },
  {
   "cell_type": "code",
   "execution_count": 2,
   "metadata": {},
   "outputs": [],
   "source": [
    "# constants you may find helpful. Edit as you would like.\n",
    "EMBEDDINGS_SIZE = 50\n",
    "NGRAM = 3 # The ngram language model you want to train"
   ]
  },
  {
   "cell_type": "code",
   "execution_count": 3,
   "metadata": {},
   "outputs": [],
   "source": [
    "# load in necessary data\n",
    "TRAIN_FILE = 'spooky_author_train.csv'\n",
    "char_texts = nutils.read_file_spooky(TRAIN_FILE, NGRAM, by_character=True)\n",
    "word_texts = nutils.read_file_spooky(TRAIN_FILE, NGRAM, by_character=False)"
   ]
  },
  {
   "cell_type": "code",
   "execution_count": 4,
   "metadata": {},
   "outputs": [],
   "source": [
    "# Initialize a Tokenizer and fit on your data\n",
    "# do this for both the word and character data\n",
    "\n",
    "# It is used to vectorize a text corpus. Here, it just creates a mapping from \n",
    "# word to a unique index. (Note: Indexing starts from 0)\n",
    "# Example:\n",
    "# tokenizer = Tokenizer()\n",
    "# tokenizer.fit_on_texts(data)\n",
    "# encoded = tokenizer.texts_to_sequences(data)\n",
    "char_tokenizer = Tokenizer()\n",
    "char_tokenizer.fit_on_texts(char_texts)\n",
    "encoded_chars = char_tokenizer.texts_to_sequences(char_texts)\n",
    "\n",
    "word_tokenizer = Tokenizer()\n",
    "word_tokenizer.fit_on_texts(word_texts)\n",
    "encoded_words = word_tokenizer.texts_to_sequences(word_texts)"
   ]
  },
  {
   "cell_type": "code",
   "execution_count": 5,
   "metadata": {},
   "outputs": [
    {
     "name": "stdout",
     "output_type": "stream",
     "text": [
      "Vocab size for character embeddings: 60\n",
      "Vocab size for word embeddings: 25374\n"
     ]
    }
   ],
   "source": [
    "# print out the size of the word index for each of your tokenizers\n",
    "# this should match what you calculated in Task 2 with your embeddings\n",
    "\n",
    "# Vocabulary size for character embeddings is 60\n",
    "# Vocabulary size for word embeddings is 25374\n",
    "print('Vocab size for character embeddings:', len(char_tokenizer.word_index))\n",
    "print('Vocab size for word embeddings:', len(word_tokenizer.word_index))"
   ]
  },
  {
   "cell_type": "markdown",
   "metadata": {},
   "source": [
    "### b) Next, prepare the sequences to train your model from text (5 points)"
   ]
  },
  {
   "cell_type": "markdown",
   "metadata": {},
   "source": [
    "#### Fixed n-gram based sequences"
   ]
  },
  {
   "cell_type": "raw",
   "metadata": {},
   "source": [
    "The training samples will be structured in the following format. \n",
    "Depening on which ngram model we choose, there will be (n-1) tokens \n",
    "in the input sequence (X) and we will need to predict the nth token (Y)\n",
    "\n",
    "            X,\t\t\t\t\t\t                      y\n",
    "    this,    process                                    however\n",
    "    process, however                                    afforded\n",
    "    however, afforded\t                                me\n",
    "\n",
    "\n",
    "Our first step is to translate the text into sequences of numbers, \n",
    "one sequence per n-gram window."
   ]
  },
  {
   "cell_type": "code",
   "execution_count": 6,
   "metadata": {},
   "outputs": [
    {
     "name": "stdout",
     "output_type": "stream",
     "text": [
      "Character ngram training samples:\n",
      "Total sequences: 2957553\n",
      "[21, 21, 3]\n",
      "[21, 3, 9]\n",
      "[3, 9, 7]\n",
      "[9, 7, 8]\n",
      "[7, 8, 1]\n",
      "\n",
      "Word ngram training samples:\n",
      "Total sequences: 634080\n",
      "[1, 1, 32]\n",
      "[1, 32, 2956]\n",
      "[32, 2956, 3]\n",
      "[2956, 3, 155]\n",
      "[3, 155, 3]\n"
     ]
    }
   ],
   "source": [
    "def generate_ngram_training_samples(encoded: list, ngram: int) -> list:\n",
    "    '''\n",
    "    Takes the encoded data (list of lists) and \n",
    "    generates the ngram training samples out of it.\n",
    "    Parameters:\n",
    "    encoded: a list of lists produced by kera's tokenizer mapping tokens to unique indices \n",
    "    ngram: the size of the ngrams that should be produced \n",
    "    return: \n",
    "    list of lists in the format [[x1, x2, ... , x(n-1), y], ...]\n",
    "    '''\n",
    "    ngram_samples = []\n",
    "\n",
    "    for line in encoded:\n",
    "        for i in range(len(line) - ngram + 1):\n",
    "            ngram_samples.append(line[i:i+ngram])\n",
    "            \n",
    "    return ngram_samples\n",
    "\n",
    "\n",
    "# generate your training samples for both word and character data\n",
    "# print out the first 5 training samples for each\n",
    "# we have displayed the number of sequences\n",
    "# to expect for both characters and words\n",
    "#\n",
    "# Spooky data by character should give 2957553 sequences\n",
    "# [21, 21, 3]\n",
    "# [21, 3, 9]\n",
    "# [3, 9, 7]\n",
    "# ...\n",
    "# Spooky data by words shoud give 634080 sequences\n",
    "# [1, 1, 32]\n",
    "# [1, 32, 2956]\n",
    "# [32, 2956, 3]\n",
    "# ...\n",
    "\n",
    "char_ngrams = generate_ngram_training_samples(encoded_chars, NGRAM)\n",
    "word_ngrams = generate_ngram_training_samples(encoded_words, NGRAM)\n",
    "\n",
    "print(\"Character ngram training samples:\")\n",
    "print(\"Total sequences:\", len(char_ngrams))\n",
    "for i in range(5):\n",
    "    print(char_ngrams[i])\n",
    "\n",
    "print()\n",
    "\n",
    "print(\"Word ngram training samples:\")\n",
    "print(\"Total sequences:\", len(word_ngrams))\n",
    "for i in range(5):\n",
    "    print(word_ngrams[i])"
   ]
  },
  {
   "cell_type": "markdown",
   "metadata": {},
   "source": [
    "### c) Then, split the sequences into X and y and create a Data Generator (20 points)"
   ]
  },
  {
   "cell_type": "code",
   "execution_count": 7,
   "metadata": {},
   "outputs": [
    {
     "name": "stdout",
     "output_type": "stream",
     "text": [
      "Shape of X data for words: (634080, 2)\n",
      "Shape of y data for words: (634080,)\n",
      "\n",
      "Shape of X data for characters: (2957553, 2)\n",
      "Shape of y data for characters: (2957553,)\n"
     ]
    }
   ],
   "source": [
    "# 2.5 points\n",
    "\n",
    "# Note here that the sequences were in the form: \n",
    "# sequence = [x1, x2, ... , x(n-1), y]\n",
    "# We still need to separate it into [[x1, x2, ... , x(n-1)], ...], [y1, y2, ...]]\n",
    "# do that here\n",
    "def split_ngrams(ngrams: list) -> (np.array, np.array):\n",
    "    \"\"\"\n",
    "    Separate ngram sequences into lists of X and y data.\n",
    "    Args:\n",
    "    ngrams (list of lists): sequences of ngrams in the form of [[x1, x2, ... , x(n-1), y], ...]\n",
    "\n",
    "    Returns:\n",
    "    X (2-D numpy array): sequences of the first n-1 tokens in the ngrams [[x1, x2, ... , x(n-1)], ...]\n",
    "    y (1-D numpy array): list of all the labels aka the n token in the ngrams [y1, y2, ...]\n",
    "    \"\"\"\n",
    "    X =  np.array([ngram[:-1] for ngram in ngrams])\n",
    "    y = np.array([ngram[-1] for ngram in ngrams])\n",
    "    return X, y\n",
    "\n",
    "\n",
    "X_char, y_char = split_ngrams(char_ngrams)\n",
    "X_word, y_word = split_ngrams(word_ngrams)\n",
    "\n",
    "# print out the shapes to verify that they are correct\n",
    "print(\"Shape of X data for characters:\", X_char.shape)\n",
    "print(\"Shape of y data for characters:\", y_char.shape)\n",
    "\n",
    "print()\n",
    "\n",
    "print(\"Shape of X data for words:\", X_word.shape)\n",
    "print(\"Shape of y data for words:\", y_word.shape)"
   ]
  },
  {
   "cell_type": "code",
   "execution_count": 8,
   "metadata": {},
   "outputs": [],
   "source": [
    "# 2.5 points\n",
    "\n",
    "# Initialize a function that reads the word embeddings you saved earlier\n",
    "# and gives you back mappings from words to their embeddings and also \n",
    "# indexes from the tokenizers to their embeddings\n",
    "\n",
    "def read_embeddings(filename: str, tokenizer: Tokenizer) -> (dict, dict):\n",
    "    '''Loads and parses embeddings trained in earlier.\n",
    "    Parameters:\n",
    "        filename (str): path to file\n",
    "        Tokenizer: tokenizer used to tokenize the data (needed to get the word to index mapping)\n",
    "    Returns:\n",
    "        (dict): mapping from word to its embedding vector\n",
    "        (dict): mapping from index to its embedding vector\n",
    "    '''\n",
    "    # YOUR CODE HERE\n",
    "    # word2vec maps tokens to embedding vectors \n",
    "    word2vec_embeddings = KeyedVectors.load_word2vec_format(filename, binary=False)\n",
    "\n",
    "    # initialize dictionaries \n",
    "    token_to_embedding = {}\n",
    "    index_to_embedding = {}\n",
    "\n",
    "    # tokenizer maps tokens to unique indices \n",
    "    for token, index in tokenizer.word_index.items():\n",
    "        embedding = word2vec_embeddings[token]\n",
    "\n",
    "        token_to_embedding[token] = embedding\n",
    "        index_to_embedding[index] = embedding\n",
    "\n",
    "    return (token_to_embedding, index_to_embedding)\n",
    "\n",
    "\n",
    "token_to_embedding_words, index_to_embedding_words = read_embeddings(\"spooky_embedding_word.txt\", word_tokenizer)\n",
    "token_to_embedding_chars, index_to_embedding_chars = read_embeddings(\"spooky_embedding_char.txt\", char_tokenizer)"
   ]
  },
  {
   "cell_type": "code",
   "execution_count": 9,
   "metadata": {},
   "outputs": [],
   "source": [
    "# NECESSARY FOR CHARACTERS\n",
    "\n",
    "# the \"0\" index of the Tokenizer is assigned for the padding token. Initialize\n",
    "# the vector for padding token as all zeros of embedding size\n",
    "# this adds one to the number of embeddings that were initially saved\n",
    "# (and increases your vocab size by 1)\n",
    "\n",
    "index_to_embedding_words[0] = [0] * EMBEDDINGS_SIZE\n",
    "index_to_embedding_chars[0] = [0] * EMBEDDINGS_SIZE"
   ]
  },
  {
   "cell_type": "code",
   "execution_count": 10,
   "metadata": {},
   "outputs": [],
   "source": [
    "# 10 points\n",
    "\n",
    "\n",
    "def data_generator(X: list, y: list, num_sequences_per_batch: int, index_2_embedding: dict) -> (np.array, np.array):\n",
    "    '''\n",
    "    Returns data generator to be used by feed_forward\n",
    "    https://wiki.python.org/moin/Generators\n",
    "    https://realpython.com/introduction-to-python-generators/\n",
    "    \n",
    "    Yields batches of embeddings and labels to go with them.\n",
    "    Use one hot vectors to encode the labels \n",
    "    (see the to_categorical function)\n",
    "\n",
    "    Args:\n",
    "    X (2-D numpy array): sequences of the first n-1 token indices from training data ngrams [[x1, x2, ... , x(n-1)], ...]\n",
    "    y (1-D numpy array): list of all the labels aka the nth token index from training data ngrams [y1, y2, ...]\n",
    "    num_sequences_per_batch (int): batch size yielded on each iteration of the generator \n",
    "    index_2_embedding (dict): mapping between unique token indices and dense word embeddings \n",
    "\n",
    "    Returns:\n",
    "    X_batch_embeddings (2-D numpy array): sequences of embeddings in the form [[x1_word_embedding ... x2_word_embedding ... x(n-1)_word_embedding], ...]\n",
    "    y_batch (2-D numpy array): a list of one hot vectors encoding labels in the form [y1_one_hot_vector, y2_one_hot_vector, ...]\n",
    "    '''\n",
    "    # YOUR CODE HERE\n",
    "    \n",
    "    # iterate over X and y in batches - stored in the form of unique token indices \n",
    "    for i in range(0, len(X), num_sequences_per_batch):\n",
    "        X_batch = X[i:i+num_sequences_per_batch]\n",
    "\n",
    "        # represents embeddings for each n-1 gram sequence in X_batch \n",
    "        # flattened so resulting shape is (batch_size, (n-1)*EMBEDDING_SIZE)\n",
    "        X_batch_embeddings = []\n",
    "        for X_sequence in X_batch:\n",
    "            # embeddings for a single training sequence / n-1 gram - concatenated to have length (n-1)*EMBEDDING_SIZE\n",
    "            X_sequence_embeddings = []\n",
    "            for token_idx in X_sequence:\n",
    "                X_sequence_embeddings.extend(index_2_embedding[token_idx])\n",
    "\n",
    "            X_batch_embeddings.append(X_sequence_embeddings)\n",
    "\n",
    "        # represent labels as one hot vectors \n",
    "        # resulting shape is (batch_size, |V|) (vocab size is the length of the index -> embedding dictionary)\n",
    "        y_batch = to_categorical(y[i:i+num_sequences_per_batch], num_classes=len(index_2_embedding))\n",
    "\n",
    "        # yield statement instead of return for generator \n",
    "        yield(np.array(X_batch_embeddings), np.array(y_batch))\n"
   ]
  },
  {
   "cell_type": "code",
   "execution_count": 11,
   "metadata": {},
   "outputs": [
    {
     "name": "stdout",
     "output_type": "stream",
     "text": [
      "Character data X shape: (128, 100)\n",
      "Character data y shape: (128, 61)\n",
      "\n",
      "Word data X shape: (128, 100)\n",
      "Word data y shape: (128, 25375)\n"
     ]
    }
   ],
   "source": [
    "# 5 points\n",
    "\n",
    "# initialize your data_generator for both word and character data\n",
    "# print out the shapes of the first batch to verify that it is correct for both word and character data\n",
    "\n",
    "# Examples:\n",
    "num_sequences_per_batch = 128 # this is the batch size\n",
    "#steps_per_epoch = len(sequence)//num_sequences_per_batch  # Number of batches per epoch\n",
    "# train_generator = data_generator(X, y, num_sequences_per_batch)\n",
    "\n",
    "# sample=next(train_generator) # this is how you get data out of generators\n",
    "# sample[0].shape # (batch_size, (n-1)*EMBEDDING_SIZE)  (128, 100)\n",
    "# sample[1].shape   # (batch_size, |V|) to_categorical\n",
    "\n",
    "char_data_generator = data_generator(X_char, y_char, num_sequences_per_batch, index_to_embedding_chars)\n",
    "word_data_generator = data_generator(X_word, y_word, num_sequences_per_batch, index_to_embedding_words)\n",
    "\n",
    "char_sample = next(char_data_generator)\n",
    "print(\"Character data X shape:\", char_sample[0].shape)\n",
    "print(\"Character data y shape:\", char_sample[1].shape)\n",
    "\n",
    "print()\n",
    "\n",
    "word_sample = next(word_data_generator)\n",
    "print(\"Word data X shape:\", word_sample[0].shape)\n",
    "print(\"Word data y shape:\", word_sample[1].shape)"
   ]
  },
  {
   "cell_type": "markdown",
   "metadata": {},
   "source": [
    "### d) Train & __save__ your models (15 points)"
   ]
  },
  {
   "cell_type": "code",
   "execution_count": 12,
   "metadata": {},
   "outputs": [],
   "source": [
    "# 15 points \n",
    "\n",
    "# code to train a feedforward neural language model for \n",
    "# both word embeddings and character embeddings\n",
    "# make sure not to just copy + paste to train your two models\n",
    "# (define functions as needed)\n",
    "\n",
    "# train your models for between 3 & 5 epochs\n",
    "# on Felix's machine, this takes ~ 24 min for character embeddings and ~ 10 min for word embeddings\n",
    "# DO NOT EXPECT ACCURACIES OVER 0.5 (and even that is very for this many epochs)\n",
    "# We recommend starting by training for 1 epoch\n",
    "\n",
    "# Define your model architecture using Keras Sequential API\n",
    "# Use the adam optimizer instead of sgd\n",
    "# add cells as desired"
   ]
  },
  {
   "cell_type": "code",
   "execution_count": 13,
   "metadata": {},
   "outputs": [],
   "source": [
    "# Here is some example code to train a model with a data generator\n",
    "# model.fit(x=train_generator, \n",
    "#           steps_per_epoch=steps_per_epoch,\n",
    "#           epochs=1)\n"
   ]
  },
  {
   "cell_type": "code",
   "execution_count": 14,
   "metadata": {},
   "outputs": [],
   "source": [
    "def feedforward_neural_net(X_train: np.array, \n",
    "                           y_train: np.array, \n",
    "                           num_sequences_per_batch: int, \n",
    "                           index_2_embedding: dict, \n",
    "                           num_epochs: int=1,\n",
    "                           n: int=NGRAM, \n",
    "                           embedding_size: int=EMBEDDINGS_SIZE, \n",
    "                           verbose: bool=False):\n",
    "    \"\"\"\n",
    "    Creates and trains a feedforward neural network using given training data.\n",
    "    Neural Network uses 1 hidden layer with 100 hidden units.\n",
    "    Args:\n",
    "        X_train (list of list): featurized training data\n",
    "        y_train (list): training data labels\n",
    "        num_sequences_per_batch (int): batch size for training data \n",
    "        index_2_embedding (dict): mapping from token index -> word2vec embeddings \n",
    "        num_epochs (int): number of training epochs\n",
    "        n (int): n-gram size used in the training data\n",
    "        embedding_size (int): size of the dense word embeddings used for X_train\n",
    "        verbose (bool): if epoch training progress should be printed\n",
    "    Returns:\n",
    "        a trained Neural Network model\n",
    "    \"\"\"\n",
    "    # define model parameters\n",
    "    hidden_units = 100\n",
    "    hidden_input_dim = (n - 1) * embedding_size     # shape[1] of the X embedding data produced by our generator  \n",
    "    output_dim = len(index_2_embedding)             # vocab size \n",
    "\n",
    "    # instantiate model\n",
    "    model = Sequential()\n",
    "\n",
    "    # hidden layer \n",
    "    model.add(Dense(units=hidden_units, activation='relu', input_dim=hidden_input_dim))\n",
    "\n",
    "    # output layer\n",
    "    model.add(Dense(units=output_dim, activation='softmax'))\n",
    "\n",
    "    # configure the learning process\n",
    "    model.compile(loss='categorical_crossentropy',\n",
    "                optimizer='adam',\n",
    "                metrics=['accuracy'])\n",
    "    \n",
    "    model.summary()\n",
    "    \n",
    "    # total number of batches per epoch \n",
    "    steps_per_epoch = len(X_train)//num_sequences_per_batch\n",
    "\n",
    "    for _ in range(num_epochs):\n",
    "        # create a new data generator for us to iterate through\n",
    "        train_generator = data_generator(X_train, y_train, num_sequences_per_batch, index_2_embedding)\n",
    "\n",
    "        # train model \n",
    "        model.fit(x=train_generator, steps_per_epoch=steps_per_epoch, verbose=verbose)\n",
    "\n",
    "    return model"
   ]
  },
  {
   "cell_type": "code",
   "execution_count": 15,
   "metadata": {},
   "outputs": [
    {
     "name": "stdout",
     "output_type": "stream",
     "text": [
      "Model: \"sequential\"\n",
      "_________________________________________________________________\n",
      " Layer (type)                Output Shape              Param #   \n",
      "=================================================================\n",
      " dense (Dense)               (None, 100)               10100     \n",
      "                                                                 \n",
      " dense_1 (Dense)             (None, 25375)             2562875   \n",
      "                                                                 \n",
      "=================================================================\n",
      "Total params: 2572975 (9.82 MB)\n",
      "Trainable params: 2572975 (9.82 MB)\n",
      "Non-trainable params: 0 (0.00 Byte)\n",
      "_________________________________________________________________\n"
     ]
    },
    {
     "name": "stdout",
     "output_type": "stream",
     "text": [
      "4953/4953 [==============================] - 293s 59ms/step - loss: 5.7485 - accuracy: 0.1914\n",
      "4953/4953 [==============================] - 284s 57ms/step - loss: 5.1904 - accuracy: 0.2051\n",
      "4953/4953 [==============================] - 287s 58ms/step - loss: 4.9648 - accuracy: 0.2079\n",
      "4953/4953 [==============================] - 293s 59ms/step - loss: 4.7936 - accuracy: 0.2093\n",
      "4953/4953 [==============================] - 283s 57ms/step - loss: 4.6603 - accuracy: 0.2103\n"
     ]
    }
   ],
   "source": [
    "\n",
    "# spooky data model by character for 5 epochs takes ~ 24 min on Felix's computer\n",
    "# with adam optimizer, gets accuracy of 0.3920\n",
    "\n",
    "# spooky data model by word for 5 epochs takes 10 min on Felix's computer\n",
    "# results in accuracy of 0.2110\n",
    "\n",
    "\n",
    "word_nn_model = feedforward_neural_net(X_word, y_word, num_sequences_per_batch, index_to_embedding_words, num_epochs=5, verbose=True)\n"
   ]
  },
  {
   "cell_type": "code",
   "execution_count": 16,
   "metadata": {},
   "outputs": [
    {
     "name": "stdout",
     "output_type": "stream",
     "text": [
      "Model: \"sequential_1\"\n",
      "_________________________________________________________________\n",
      " Layer (type)                Output Shape              Param #   \n",
      "=================================================================\n",
      " dense_2 (Dense)             (None, 100)               10100     \n",
      "                                                                 \n",
      " dense_3 (Dense)             (None, 61)                6161      \n",
      "                                                                 \n",
      "=================================================================\n",
      "Total params: 16261 (63.52 KB)\n",
      "Trainable params: 16261 (63.52 KB)\n",
      "Non-trainable params: 0 (0.00 Byte)\n",
      "_________________________________________________________________\n"
     ]
    },
    {
     "name": "stdout",
     "output_type": "stream",
     "text": [
      "23105/23105 [==============================] - 98s 4ms/step - loss: 2.0882 - accuracy: 0.3725\n",
      "23105/23105 [==============================] - 101s 4ms/step - loss: 1.9912 - accuracy: 0.3882\n",
      "23105/23105 [==============================] - 100s 4ms/step - loss: 1.9749 - accuracy: 0.3898\n",
      "23105/23105 [==============================] - 111s 5ms/step - loss: 1.9674 - accuracy: 0.3903\n",
      "23105/23105 [==============================] - 98s 4ms/step - loss: 1.9630 - accuracy: 0.3905\n"
     ]
    }
   ],
   "source": [
    "char_nn_model = feedforward_neural_net(X_char, y_char, num_sequences_per_batch, index_to_embedding_chars, num_epochs=5, verbose=True)"
   ]
  },
  {
   "cell_type": "code",
   "execution_count": 17,
   "metadata": {},
   "outputs": [
    {
     "name": "stdout",
     "output_type": "stream",
     "text": [
      "INFO:tensorflow:Assets written to: word_neural_lm\\assets\n"
     ]
    },
    {
     "name": "stderr",
     "output_type": "stream",
     "text": [
      "INFO:tensorflow:Assets written to: word_neural_lm\\assets\n"
     ]
    },
    {
     "name": "stdout",
     "output_type": "stream",
     "text": [
      "INFO:tensorflow:Assets written to: char_neural_lm\\assets\n"
     ]
    },
    {
     "name": "stderr",
     "output_type": "stream",
     "text": [
      "INFO:tensorflow:Assets written to: char_neural_lm\\assets\n"
     ]
    }
   ],
   "source": [
    "# save your trained models so you can re-load instead of re-training each time\n",
    "# also, you'll need these to generate your sentences!\n",
    "word_nn_model.save(\"word_neural_lm\")\n",
    "char_nn_model.save(\"char_neural_lm\")"
   ]
  },
  {
   "cell_type": "markdown",
   "metadata": {},
   "source": [
    "### e) Generate Sentences (15 points)"
   ]
  },
  {
   "cell_type": "code",
   "execution_count": 18,
   "metadata": {},
   "outputs": [],
   "source": [
    "# load your models if you need to\n",
    "word_neural_lm = keras.saving.load_model(\"word_neural_lm\")\n",
    "char_neural_lm = keras.saving.load_model(\"char_neural_lm\")"
   ]
  },
  {
   "cell_type": "code",
   "execution_count": 145,
   "metadata": {},
   "outputs": [],
   "source": [
    "# 10 points\n",
    "\n",
    "# # generate a sequence from the model until you get an end of sentence token\n",
    "# This is an example function header you might use\n",
    "def generate_seq(model: Sequential, \n",
    "                 tokenizer: Tokenizer, \n",
    "                 index_2_embedding: dict, \n",
    "                 seed: list):\n",
    "    '''\n",
    "    Parameters:\n",
    "        model: your neural network\n",
    "        tokenizer: the keras preprocessing tokenizer\n",
    "        index_2_embedding: mapping from token index -> word2vec embeddings \n",
    "        seed: [w1, w2, w(n-1)]\n",
    "    Returns: an array of tokens \n",
    "    '''\n",
    "    sentence_begin_index = tokenizer.word_index.get(nutils.SENTENCE_BEGIN)\n",
    "    sentence_end_index = tokenizer.word_index.get(nutils.SENTENCE_END)\n",
    "\n",
    "    # track the unique token indices for the sequence \n",
    "    sequence_indices = [tokenizer.word_index.get(tok) for tok in seed] \n",
    "\n",
    "    nn_input_length = len(seed)\n",
    "    # until we get a SENTENCE_END token\n",
    "    while sequence_indices[-1] != sentence_end_index:\n",
    "        # get the latest n-1 token indices \n",
    "        input_sequence = sequence_indices[-1*nn_input_length:]\n",
    "\n",
    "        # convert the input sequence to embeddings (concatenated together)\n",
    "        input_embeddings = []\n",
    "        for idx in input_sequence:\n",
    "            input_embeddings.extend(index_2_embedding[idx])\n",
    "\n",
    "        # convert to numpy array\n",
    "        input_embeddings = np.array([input_embeddings])\n",
    "\n",
    "        # get probability distribution on vocabulary for the next token in the sequence \n",
    "        prediction = model.predict(input_embeddings, verbose=False)\n",
    "\n",
    "        next_tok_idx = np.random.choice(len(prediction[0]), p=prediction[0])\n",
    "\n",
    "        # skip mid-sentence SENTENCE_BEGIN tokens\n",
    "        if next_tok_idx == sentence_begin_index:\n",
    "            continue\n",
    "\n",
    "        sequence_indices.append(next_tok_idx)\n",
    "\n",
    "    tokenizer_keys = list(tokenizer.word_index.keys())\n",
    "    tokenizer_kv_pairs = list(word_tokenizer.word_index.values())\n",
    "    sequence = [tokenizer_keys[tokenizer_kv_pairs.index(idx)] for idx in sequence_indices]\n",
    "    return sequence"
   ]
  },
  {
   "cell_type": "code",
   "execution_count": 122,
   "metadata": {},
   "outputs": [],
   "source": [
    "def generate_sequences(model: Sequential, \n",
    "                      tokenizer: Tokenizer, \n",
    "                      index_2_embedding: dict, \n",
    "                      num_seq: int,\n",
    "                      by_char: bool,\n",
    "                      n: int=NGRAM):\n",
    "    '''\n",
    "    Generates a given number of sequences using the given neural network language model.\n",
    "    Will begin the sequence generation with n-1 SENTENCE_BEGIN tokens.\n",
    "    Returned sequences will have the BEGIN and END tokens removed\n",
    "    For character models, _ will be replaced with spaces  \n",
    "\n",
    "    Parameters:\n",
    "        model: neural network language model\n",
    "        tokenizer: the keras preprocessing tokenizer\n",
    "        index_2_embedding: mapping from token index -> word2vec embeddings \n",
    "        num_seq: the number of sequences to generate \n",
    "        by_char: True if a character model, False if a word model is used \n",
    "        n: the size of the ngram used to train the neural network model\n",
    "\n",
    "    Returns: \n",
    "        a list of strings, where each string is a generated sequence with <s> or </s> tokens removed \n",
    "    '''\n",
    "    seed = [nutils.SENTENCE_BEGIN] * (NGRAM - 1)\n",
    "\n",
    "    sequences = []\n",
    "    for _ in range(num_seq):\n",
    "        seq = generate_seq(model, tokenizer, index_2_embedding, seed)\n",
    "\n",
    "        if by_char:\n",
    "            seq = ''.join(seq)\n",
    "            seq = seq.replace('_', ' ')\n",
    "        else:\n",
    "            seq = ' '.join(seq)\n",
    "\n",
    "        # remove <s> and </s>\n",
    "        seq = seq.replace(nutils.SENTENCE_BEGIN, '')\n",
    "        seq = seq.replace(nutils.SENTENCE_END, '')\n",
    "\n",
    "        sequences.append(seq.strip())\n",
    "        \n",
    "    return sequences"
   ]
  },
  {
   "cell_type": "code",
   "execution_count": 146,
   "metadata": {},
   "outputs": [
    {
     "name": "stdout",
     "output_type": "stream",
     "text": [
      "Sequence generated with character model:\n",
      "to porwar the in theated mor: \"lick im in tor faxces or me was hat was in a he my colthe thal imenterse expont.\n",
      "\n",
      "Sequence generated with word model:\n",
      "of what they should to go what burst through each pictured , and later faintings money or even , in some section allusions of the purposes of escaping , and its letter was i slept her eyes she began .\n"
     ]
    }
   ],
   "source": [
    "# 5 points\n",
    "\n",
    "# generate and display one sequence from both the word model and the character model\n",
    "# do not include <s> or </s> in your displayed sentences\n",
    "# make sure that you can read the output easily (i.e. don't just print out a list of tokens)\n",
    "\n",
    "# you may leave _ as _ or replace it with a space if you prefer\n",
    "char_seq = generate_sequences(char_neural_lm, char_tokenizer, index_to_embedding_chars, num_seq=1, by_char=True)[0]\n",
    "print(\"Sequence generated with character model:\")\n",
    "print(char_seq)\n",
    "\n",
    "print()\n",
    "\n",
    "word_seq = generate_sequences(word_neural_lm, word_tokenizer, index_to_embedding_words, num_seq=1, by_char=False)[0]\n",
    "print(\"Sequence generated with word model:\")\n",
    "print(word_seq)\n"
   ]
  },
  {
   "cell_type": "code",
   "execution_count": 126,
   "metadata": {},
   "outputs": [],
   "source": [
    "# generate 100 example sentences with each model and save them to a file, one sentence per line\n",
    "# do not include <s> and </s> in your saved sentences (you'll use these sentences in your next task)\n",
    "# this will produce two files, one for each model\n",
    "\n",
    "char_sequences = generate_sequences(char_neural_lm, char_tokenizer, index_to_embedding_chars, num_seq=100, by_char=True)\n",
    "word_sequences = generate_sequences(word_neural_lm, word_tokenizer, index_to_embedding_words, num_seq=100, by_char=False)"
   ]
  },
  {
   "cell_type": "code",
   "execution_count": 129,
   "metadata": {},
   "outputs": [],
   "source": [
    "CHAR_SEQ_FILEPATH = \"neurallm_seq_char.txt\"\n",
    "WORD_SEQ_FILEPATH = \"neurallm_seq_word.txt\"\n",
    "\n",
    "with open(CHAR_SEQ_FILEPATH, 'w') as file:\n",
    "    for line in char_sequences:\n",
    "        file.write(line + '\\n')\n",
    "\n",
    "with open(WORD_SEQ_FILEPATH, 'w') as file:\n",
    "    for line in word_sequences:\n",
    "        file.write(line + '\\n')"
   ]
  }
 ],
 "metadata": {
  "kernelspec": {
   "display_name": "base",
   "language": "python",
   "name": "python3"
  },
  "language_info": {
   "codemirror_mode": {
    "name": "ipython",
    "version": 3
   },
   "file_extension": ".py",
   "mimetype": "text/x-python",
   "name": "python",
   "nbconvert_exporter": "python",
   "pygments_lexer": "ipython3",
   "version": "3.11.4"
  }
 },
 "nbformat": 4,
 "nbformat_minor": 2
}
